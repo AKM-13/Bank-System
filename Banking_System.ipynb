{
  "nbformat": 4,
  "nbformat_minor": 0,
  "metadata": {
    "colab": {
      "provenance": []
    },
    "kernelspec": {
      "name": "python3",
      "display_name": "Python 3"
    },
    "language_info": {
      "name": "python"
    }
  },
  "cells": [
    {
      "cell_type": "code",
      "source": [
        "import random\n",
        "\n",
        "\n",
        "class Bank:\n",
        "    def __init__(self):\n",
        "        \"\"\"\n",
        "        Initializes a Bank instance with dictionaries to manage user accounts and their transactions.\n",
        "        \"\"\"\n",
        "        self.accounts = {}  # Stores user accounts\n",
        "        self.transactions = {}  # Keeps track of transaction history"
      ],
      "metadata": {
        "id": "w3VzWqoOnVR3"
      },
      "execution_count": 2,
      "outputs": []
    },
    {
      "cell_type": "code",
      "source": [
        "def create_account(self, account_holder, initial_balance):\n",
        "        \"\"\"\n",
        "        Creates a new bank account for a user.\n",
        "\n",
        "        Args:\n",
        "            account_holder (str): Name of the account holder.\n",
        "            initial_balance (float): Starting balance for the account.\n",
        "\n",
        "        Returns:\n",
        "            BankAccount: The newly created account instance.\n",
        "        \"\"\"\n",
        "        account_number = self.generate_account_number()\n",
        "        account = BankAccount(account_number, account_holder, initial_balance)\n",
        "        self.accounts[account_number] = account\n",
        "        self.transactions[account_number] = []\n",
        "        return account"
      ],
      "metadata": {
        "id": "r7Sb-cDnqvkh"
      },
      "execution_count": 3,
      "outputs": []
    },
    {
      "cell_type": "code",
      "source": [
        "def generate_account_number(self):\n",
        "        \"\"\"\n",
        "        Generates an 8-digit random account number.\n",
        "\n",
        "        Returns:\n",
        "            str: A randomly generated account number.\n",
        "        \"\"\"\n",
        "        return \"\".join(random.choice(\"0123456789\") for _ in range(8))"
      ],
      "metadata": {
        "id": "yfAVX3tCq2Vl"
      },
      "execution_count": null,
      "outputs": []
    },
    {
      "cell_type": "code",
      "source": [
        "def get_account(self, account_number):\n",
        "        \"\"\"\n",
        "        Retrieves the account object based on the account number provided.\n",
        "\n",
        "        Args:\n",
        "            account_number (str): Account number to search for.\n",
        "\n",
        "        Returns:\n",
        "            BankAccount: The account instance if found, otherwise None.\n",
        "        \"\"\"\n",
        "        return self.accounts.get(account_number)"
      ],
      "metadata": {
        "id": "pi5IdL3IrCG-"
      },
      "execution_count": 4,
      "outputs": []
    },
    {
      "cell_type": "code",
      "source": [
        "def perform_transaction(self, account_number, transaction_type, amount):\n",
        "        \"\"\"\n",
        "        Processes a deposit or withdrawal transaction for a specified account.\n",
        "\n",
        "        Args:\n",
        "            account_number (str): The account number on which to perform the transaction.\n",
        "            transaction_type (str): Type of transaction (deposit or withdraw).\n",
        "            amount (float): The amount involved in the transaction.\n",
        "\n",
        "        Returns:\n",
        "            str: Message indicating whether the transaction was successful or not.\n",
        "        \"\"\"\n",
        "        account = self.get_account(account_number)\n",
        "        if not account:\n",
        "            return \"Account not found.\"\n",
        "\n",
        "        if transaction_type == \"deposit\":\n",
        "            account.deposit(amount)\n",
        "        elif transaction_type == \"withdraw\":\n",
        "            account.withdraw(amount)\n",
        "        else:\n",
        "            return \"Invalid transaction type.\"\n",
        "\n",
        "        self.transactions[account_number].append((transaction_type, amount))\n",
        "        return \"Transaction successful.\""
      ],
      "metadata": {
        "id": "KNmqh_tNrD-n"
      },
      "execution_count": 5,
      "outputs": []
    },
    {
      "cell_type": "code",
      "source": [
        "def get_transaction_history(self, account_number):\n",
        "        \"\"\"\n",
        "        Fetches the list of past transactions for a given account.\n",
        "\n",
        "        Args:\n",
        "            account_number (str): The account number to retrieve history for.\n",
        "\n",
        "        Returns:\n",
        "            list: A list of tuples representing transactions (type, amount), or an empty list if no history exists.\n",
        "        \"\"\"\n",
        "        return self.transactions.get(account_number, [])"
      ],
      "metadata": {
        "id": "ybK0QIC5rKVA"
      },
      "execution_count": 6,
      "outputs": []
    },
    {
      "cell_type": "code",
      "source": [
        "class BankAccount:\n",
        "    def __init__(self, account_number, account_holder, initial_balance):\n",
        "        \"\"\"\n",
        "        Initializes a bank account with basic details.\n",
        "\n",
        "        Args:\n",
        "            account_number (str): Unique account number.\n",
        "            account_holder (str): Name of the account holder.\n",
        "            initial_balance (float): Starting balance in the account.\n",
        "        \"\"\"\n",
        "        self.account_number = account_number\n",
        "        self.account_holder = account_holder\n",
        "        self.balance = initial_balance\n",
        "\n",
        "    def deposit(self, amount):\n",
        "        \"\"\"\n",
        "        Adds funds to the account balance.\n",
        "\n",
        "        Args:\n",
        "            amount (float): Amount to be deposited.\n",
        "        \"\"\"\n",
        "        if amount > 0:\n",
        "            self.balance += amount\n",
        "\n",
        "    def withdraw(self, amount):\n",
        "        \"\"\"\n",
        "        Deducts funds from the account balance if sufficient funds are available.\n",
        "\n",
        "        Args:\n",
        "            amount (float): Amount to be withdrawn.\n",
        "        \"\"\"\n",
        "        if 0 < amount <= self.balance:\n",
        "            self.balance -= amount\n",
        "\n",
        "    def get_balance(self):\n",
        "        \"\"\"\n",
        "        Returns the current balance of the account.\n",
        "\n",
        "        Returns:\n",
        "            float: Available balance in the account.\n",
        "        \"\"\"\n",
        "        return self.balance"
      ],
      "metadata": {
        "id": "bhrtLBcwrPVX"
      },
      "execution_count": 7,
      "outputs": []
    },
    {
      "cell_type": "code",
      "source": [
        "def main():\n",
        "    \"\"\"\n",
        "    Runs the interactive console-based banking system.\n",
        "    \"\"\"\n",
        "    bank = Bank()\n",
        "\n",
        "    while True:\n",
        "        print(\"\\n----------------------Baking System-------------------------\")\n",
        "        print(\"1. Create Account\")\n",
        "        print(\"2. Perform Transaction\")\n",
        "        print(\"3. Check Balance\")\n",
        "        print(\"4. Transaction History\")\n",
        "        print(\"5. Exit\")\n",
        "\n",
        "        choice = input(\"Enter your choice: \")\n",
        "\n",
        "        if choice == \"1\":\n",
        "            account_holder = input(\"Enter your name: \")\n",
        "            initial_balance = float(input(\"Enter initial balance: \"))\n",
        "            account = bank.create_account(account_holder, initial_balance)\n",
        "            print(f\"Account created successfully. Account Number: {account.account_number}\")\n",
        "\n",
        "        elif choice == \"2\":\n",
        "            account_number = input(\"Enter account number: \")\n",
        "            transaction_type = input(\"Enter transaction type (deposit/withdraw): \").lower()\n",
        "            amount = float(input(\"Enter transaction amount: \"))\n",
        "            result = bank.perform_transaction(account_number, transaction_type, amount)\n",
        "            print(result)\n",
        "\n",
        "        elif choice == \"3\":\n",
        "            account_number = input(\"Enter account number: \")\n",
        "            account = bank.get_account(account_number)\n",
        "            if account:\n",
        "                print(f\"Account Balance: ${account.get_balance()}\")\n",
        "            else:\n",
        "                print(\"Account not found.\")\n",
        "\n",
        "        elif choice == \"4\":\n",
        "            account_number = input(\"Enter account number: \")\n",
        "            transactions = bank.get_transaction_history(account_number)\n",
        "            if transactions:\n",
        "                print(\"Transaction History:\")\n",
        "                for trans_type, amount in transactions:\n",
        "                    print(f\"{trans_type.capitalize()}: ${amount}\")\n",
        "            else:\n",
        "                print(\"Account not found or no transaction history.\")\n",
        "\n",
        "        elif choice == \"5\":\n",
        "            print(\"Exiting the Banking System. Goodbye!\")\n",
        "            break\n",
        "\n",
        "        else:\n",
        "            print(\"Invalid choice. Please try again.\")\n",
        "\n",
        "\n",
        "if __name__ == \"__main__\":\n",
        "    main()"
      ],
      "metadata": {
        "colab": {
          "base_uri": "https://localhost:8080/"
        },
        "id": "vcA7Gu0ZrZpX",
        "outputId": "fa07ca61-c27e-4124-9917-3545c92893a8"
      },
      "execution_count": null,
      "outputs": [
        {
          "output_type": "stream",
          "name": "stdout",
          "text": [
            "\n",
            "----------------------Baking System-------------------------\n",
            "1. Create Account\n",
            "2. Perform Transaction\n",
            "3. Check Balance\n",
            "4. Transaction History\n",
            "5. Exit\n"
          ]
        }
      ]
    },
    {
      "cell_type": "code",
      "source": [],
      "metadata": {
        "id": "vnEs41Dur34b"
      },
      "execution_count": null,
      "outputs": []
    }
  ]
}